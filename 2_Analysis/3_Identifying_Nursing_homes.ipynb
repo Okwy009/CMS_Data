{
 "cells": [
  {
   "cell_type": "markdown",
   "metadata": {},
   "source": [
    "# Which nursing homes have lower staffing levels?"
   ]
  },
  {
   "cell_type": "markdown",
   "metadata": {},
   "source": [
    "## Objective\n",
    "\n",
    "- To help Clipboard Health target their sales efforts towards facilities with staffing challenges.\n"
   ]
  },
  {
   "cell_type": "markdown",
   "metadata": {},
   "source": [
    "## Methodology\n",
    "\n",
    "- Identify Understaffed Facilities (Calculate Staffing Levels)\n",
    "- Identify Understaffed Facilities\n",
    "- Analyze and Target"
   ]
  },
  {
   "cell_type": "code",
   "execution_count": 3,
   "metadata": {},
   "outputs": [
    {
     "name": "stderr",
     "output_type": "stream",
     "text": [
      "C:\\Users\\hp\\AppData\\Local\\Temp\\ipykernel_10728\\489281095.py:8: DtypeWarning: Columns (0) have mixed types. Specify dtype option on import or set low_memory=False.\n",
      "  df_cleaned = pd.read_csv('C:/Users/hp/Downloads/Cleaned_PBJ_Daily_Nurse_Staffing_Q1_2024.csv')\n",
      "C:\\Users\\hp\\AppData\\Local\\Temp\\ipykernel_10728\\489281095.py:11: DtypeWarning: Columns (0) have mixed types. Specify dtype option on import or set low_memory=False.\n",
      "  df_sn_cleaned = pd.read_csv(\n"
     ]
    }
   ],
   "source": [
    "# Importing Libraries\n",
    "import pandas as pd\n",
    "import matplotlib.pyplot as plt \n",
    "import seaborn as sns\n",
    "\n",
    "\n",
    "# Load the cleaned PBJ dataset\n",
    "df_cleaned = pd.read_csv('C:/Users/hp/Downloads/Cleaned_PBJ_Daily_Nurse_Staffing_Q1_2024.csv')\n",
    "\n",
    "# Load the cleaned sn dataset\n",
    "df_sn_cleaned = pd.read_csv(\n",
    "    'C:/Users/hp/Downloads/Cleaned_Skilled_Nursing_Facility_Quality_Reporting_Program_Provider_Data_Aug2024.csv'\n",
    ")\n"
   ]
  },
  {
   "cell_type": "markdown",
   "metadata": {},
   "source": [
    "### Calculate Staffing Levels"
   ]
  },
  {
   "cell_type": "markdown",
   "metadata": {},
   "source": [
    "- Determine the total hours worked by both full-time staff and contractors for each facility using df_cleaned."
   ]
  },
  {
   "cell_type": "code",
   "execution_count": 4,
   "metadata": {},
   "outputs": [],
   "source": [
    "# Calculate total staffing hours (including employees and contractors)\n",
    "df_cleaned['Total_Staffing_Hours'] = (\n",
    "    df_cleaned['Hrs_RN'] + df_cleaned['Hrs_LPN'] + df_cleaned['Hrs_CNA'] +\n",
    "    df_cleaned['Hrs_RNDON'] + df_cleaned['Hrs_RNadmin'] + \n",
    "    df_cleaned['Hrs_LPNadmin'] + df_cleaned['Hrs_NAtrn'] + \n",
    "    df_cleaned['Hrs_MedAide']\n",
    ")\n",
    "\n",
    "# Calculate total contractor hours\n",
    "df_cleaned['Total_Contractor_Hours'] = (\n",
    "    df_cleaned['Hrs_RN_ctr'] + df_cleaned['Hrs_LPN_ctr'] + df_cleaned['Hrs_CNA_ctr'] +\n",
    "    df_cleaned['Hrs_RNDON_ctr'] + df_cleaned['Hrs_RNadmin_ctr'] + \n",
    "    df_cleaned['Hrs_LPNadmin_ctr'] + df_cleaned['Hrs_NAtrn_ctr'] + \n",
    "    df_cleaned['Hrs_MedAide_ctr']\n",
    ")"
   ]
  },
  {
   "cell_type": "code",
   "execution_count": 5,
   "metadata": {},
   "outputs": [],
   "source": [
    "# Calculate total nurse staffing hours per resident\n",
    "df_cleaned['Staffing_Per_Resident'] = df_cleaned['Total_Staffing_Hours'] / df_cleaned['MDScensus']\n",
    "\n",
    "# Calculate the national average staffing hours per resident\n",
    "national_avg_staffing = df_cleaned['Staffing_Per_Resident'].mean()\n",
    "\n",
    "# Flad facilities that fall below the national average\n",
    "df_cleaned['Understaffed'] = df_cleaned['Staffing_Per_Resident'] < national_avg_staffing"
   ]
  },
  {
   "cell_type": "markdown",
   "metadata": {},
   "source": [
    "### Identify Understaffed Facilities"
   ]
  },
  {
   "cell_type": "code",
   "execution_count": 6,
   "metadata": {},
   "outputs": [],
   "source": [
    "# Benchmark for understaffed nursing homes (CMS recommendation: 4.1 hours per resident per day)\n",
    "benchmark_staffing_hours = 4.1\n",
    "\n",
    "# Flag nursing homes as understaffed if they fall below the benchmark\n",
    "df_cleaned['Understaffed'] = df_cleaned['Staffing_Per_Resident'] < benchmark_staffing_hours\n",
    "\n",
    "# View the updated DataFrame with the understaffed flag\n",
    "df_cleaned[['PROVNUM', 'Total_Staffing_Hours', 'Staffing_Per_Resident', 'Understaffed']].head()\n",
    "\n",
    "# Calculate total staffing hours as a percentage of a benchmark\n",
    "\n",
    "df_cleaned['Staffing_Hours_Percentage'] = (df_cleaned['Staffing_Per_Resident'] / benchmark_staffing_hours) * 100"
   ]
  },
  {
   "cell_type": "markdown",
   "metadata": {},
   "source": [
    "### Merge Datasets "
   ]
  },
  {
   "cell_type": "code",
   "execution_count": 7,
   "metadata": {},
   "outputs": [],
   "source": [
    "# Subset the DataFrames\n",
    "df_cleaned_subset = df_cleaned[['PROVNUM', 'CITY', 'STATE', 'Understaffed', 'Total_Staffing_Hours', 'Staffing_Per_Resident']]\n",
    "df_sn_cleaned_subset = df_sn_cleaned[['PROVNUM', 'Provider Name', 'Score', 'City/Town', 'State']]\n",
    "\n",
    "# Merge in chunks\n",
    "merged_chunks = []\n",
    "chunk_size = 10000  # Adjust based on memory constraints\n",
    "\n",
    "for i in range(0, len(df_cleaned_subset), chunk_size):\n",
    "    chunk_cleaned = df_cleaned_subset.iloc[i:i + chunk_size]\n",
    "    merged_chunk = pd.merge(chunk_cleaned, df_sn_cleaned_subset, on='PROVNUM', how='inner')\n",
    "    merged_chunks.append(merged_chunk)\n",
    "\n",
    "# Concatenate the merged chunks into one DataFrame\n",
    "merged_df = pd.concat(merged_chunks, ignore_index=True)"
   ]
  },
  {
   "cell_type": "code",
   "execution_count": 8,
   "metadata": {},
   "outputs": [],
   "source": [
    "# Identify understaffed facilities \n",
    "understaffed_facilities = merged_df[merged_df['Understaffed'] == True]\n"
   ]
  },
  {
   "cell_type": "markdown",
   "metadata": {},
   "source": [
    "### Analyze and Target"
   ]
  },
  {
   "cell_type": "code",
   "execution_count": 9,
   "metadata": {},
   "outputs": [
    {
     "data": {
      "text/html": [
       "<div>\n",
       "<style scoped>\n",
       "    .dataframe tbody tr th:only-of-type {\n",
       "        vertical-align: middle;\n",
       "    }\n",
       "\n",
       "    .dataframe tbody tr th {\n",
       "        vertical-align: top;\n",
       "    }\n",
       "\n",
       "    .dataframe thead th {\n",
       "        text-align: right;\n",
       "    }\n",
       "</style>\n",
       "<table border=\"1\" class=\"dataframe\">\n",
       "  <thead>\n",
       "    <tr style=\"text-align: right;\">\n",
       "      <th></th>\n",
       "      <th>PROVNUM</th>\n",
       "      <th>Provider Name</th>\n",
       "      <th>Total_Staffing_Hours</th>\n",
       "      <th>Staffing_Per_Resident</th>\n",
       "      <th>Score</th>\n",
       "      <th>Understaffed</th>\n",
       "    </tr>\n",
       "  </thead>\n",
       "  <tbody>\n",
       "    <tr>\n",
       "      <th>18</th>\n",
       "      <td>015413</td>\n",
       "      <td>LIGHTHOUSE REHABILITATION &amp; HEALTHCARE CENTER</td>\n",
       "      <td>203.77</td>\n",
       "      <td>4.0754</td>\n",
       "      <td>1.21</td>\n",
       "      <td>True</td>\n",
       "    </tr>\n",
       "    <tr>\n",
       "      <th>23</th>\n",
       "      <td>015413</td>\n",
       "      <td>LIGHTHOUSE REHABILITATION &amp; HEALTHCARE CENTER</td>\n",
       "      <td>203.77</td>\n",
       "      <td>4.0754</td>\n",
       "      <td>1.00</td>\n",
       "      <td>True</td>\n",
       "    </tr>\n",
       "    <tr>\n",
       "      <th>38</th>\n",
       "      <td>015413</td>\n",
       "      <td>LIGHTHOUSE REHABILITATION &amp; HEALTHCARE CENTER</td>\n",
       "      <td>203.77</td>\n",
       "      <td>4.0754</td>\n",
       "      <td>0.00</td>\n",
       "      <td>True</td>\n",
       "    </tr>\n",
       "    <tr>\n",
       "      <th>39</th>\n",
       "      <td>015413</td>\n",
       "      <td>LIGHTHOUSE REHABILITATION &amp; HEALTHCARE CENTER</td>\n",
       "      <td>203.77</td>\n",
       "      <td>4.0754</td>\n",
       "      <td>0.00</td>\n",
       "      <td>True</td>\n",
       "    </tr>\n",
       "    <tr>\n",
       "      <th>40</th>\n",
       "      <td>015413</td>\n",
       "      <td>LIGHTHOUSE REHABILITATION &amp; HEALTHCARE CENTER</td>\n",
       "      <td>203.77</td>\n",
       "      <td>4.0754</td>\n",
       "      <td>0.00</td>\n",
       "      <td>True</td>\n",
       "    </tr>\n",
       "  </tbody>\n",
       "</table>\n",
       "</div>"
      ],
      "text/plain": [
       "   PROVNUM                                  Provider Name  \\\n",
       "18  015413  LIGHTHOUSE REHABILITATION & HEALTHCARE CENTER   \n",
       "23  015413  LIGHTHOUSE REHABILITATION & HEALTHCARE CENTER   \n",
       "38  015413  LIGHTHOUSE REHABILITATION & HEALTHCARE CENTER   \n",
       "39  015413  LIGHTHOUSE REHABILITATION & HEALTHCARE CENTER   \n",
       "40  015413  LIGHTHOUSE REHABILITATION & HEALTHCARE CENTER   \n",
       "\n",
       "    Total_Staffing_Hours  Staffing_Per_Resident  Score  Understaffed  \n",
       "18                203.77                 4.0754   1.21          True  \n",
       "23                203.77                 4.0754   1.00          True  \n",
       "38                203.77                 4.0754   0.00          True  \n",
       "39                203.77                 4.0754   0.00          True  \n",
       "40                203.77                 4.0754   0.00          True  "
      ]
     },
     "execution_count": 9,
     "metadata": {},
     "output_type": "execute_result"
    }
   ],
   "source": [
    "# Filter to understaffed facilities with low Score (i.e, Score <= 2)\n",
    "filtered_facilities = merged_df[(merged_df['Understaffed'] == True) & (merged_df['Score'] <= 2)]\n",
    "\n",
    "# View the facilities that are understaffed and have a low quality rating\n",
    "filtered_facilities[['PROVNUM', 'Provider Name', 'Total_Staffing_Hours', 'Staffing_Per_Resident', 'Score', 'Understaffed']].head()"
   ]
  },
  {
   "cell_type": "code",
   "execution_count": 10,
   "metadata": {},
   "outputs": [
    {
     "name": "stdout",
     "output_type": "stream",
     "text": [
      "   STATE  Understaffed_Facilities\n",
      "41    TX                   332645\n",
      "9     FL                   215196\n",
      "32    OH                   169458\n",
      "4     CA                   125252\n",
      "20    MI                   121404\n"
     ]
    }
   ],
   "source": [
    "# Group the filtered facilities by state to identify areas of concentrated understaffing\n",
    "understaffed_by_state = filtered_facilities.groupby('STATE').size().reset_index(name='Understaffed_Facilities')\n",
    "\n",
    "# Sort states by the number of understaffed facilities in descending order\n",
    "understaffed_by_state = understaffed_by_state.sort_values(by='Understaffed_Facilities', ascending=False)\n",
    "\n",
    "# View the states with the most understaffed facilities\n",
    "print(understaffed_by_state.head())"
   ]
  },
  {
   "cell_type": "code",
   "execution_count": 11,
   "metadata": {},
   "outputs": [
    {
     "data": {
      "text/html": [
       "<div>\n",
       "<style scoped>\n",
       "    .dataframe tbody tr th:only-of-type {\n",
       "        vertical-align: middle;\n",
       "    }\n",
       "\n",
       "    .dataframe tbody tr th {\n",
       "        vertical-align: top;\n",
       "    }\n",
       "\n",
       "    .dataframe thead th {\n",
       "        text-align: right;\n",
       "    }\n",
       "</style>\n",
       "<table border=\"1\" class=\"dataframe\">\n",
       "  <thead>\n",
       "    <tr style=\"text-align: right;\">\n",
       "      <th></th>\n",
       "      <th>PROVNUM</th>\n",
       "      <th>Provider Name</th>\n",
       "      <th>CITY</th>\n",
       "      <th>STATE</th>\n",
       "      <th>Staffing_Per_Resident</th>\n",
       "    </tr>\n",
       "  </thead>\n",
       "  <tbody>\n",
       "    <tr>\n",
       "      <th>26221257</th>\n",
       "      <td>315471</td>\n",
       "      <td>ST CATHERINE OF SIENA</td>\n",
       "      <td>CALDWELL</td>\n",
       "      <td>NJ</td>\n",
       "      <td>0.0</td>\n",
       "    </tr>\n",
       "    <tr>\n",
       "      <th>35893553</th>\n",
       "      <td>445470</td>\n",
       "      <td>TOWNE SQUARE CARE OF PURYEAR</td>\n",
       "      <td>PURYEAR</td>\n",
       "      <td>TN</td>\n",
       "      <td>0.0</td>\n",
       "    </tr>\n",
       "    <tr>\n",
       "      <th>35893552</th>\n",
       "      <td>445470</td>\n",
       "      <td>TOWNE SQUARE CARE OF PURYEAR</td>\n",
       "      <td>PURYEAR</td>\n",
       "      <td>TN</td>\n",
       "      <td>0.0</td>\n",
       "    </tr>\n",
       "    <tr>\n",
       "      <th>35893551</th>\n",
       "      <td>445470</td>\n",
       "      <td>TOWNE SQUARE CARE OF PURYEAR</td>\n",
       "      <td>PURYEAR</td>\n",
       "      <td>TN</td>\n",
       "      <td>0.0</td>\n",
       "    </tr>\n",
       "    <tr>\n",
       "      <th>35893550</th>\n",
       "      <td>445470</td>\n",
       "      <td>TOWNE SQUARE CARE OF PURYEAR</td>\n",
       "      <td>PURYEAR</td>\n",
       "      <td>TN</td>\n",
       "      <td>0.0</td>\n",
       "    </tr>\n",
       "    <tr>\n",
       "      <th>35893549</th>\n",
       "      <td>445470</td>\n",
       "      <td>TOWNE SQUARE CARE OF PURYEAR</td>\n",
       "      <td>PURYEAR</td>\n",
       "      <td>TN</td>\n",
       "      <td>0.0</td>\n",
       "    </tr>\n",
       "    <tr>\n",
       "      <th>35893548</th>\n",
       "      <td>445470</td>\n",
       "      <td>TOWNE SQUARE CARE OF PURYEAR</td>\n",
       "      <td>PURYEAR</td>\n",
       "      <td>TN</td>\n",
       "      <td>0.0</td>\n",
       "    </tr>\n",
       "    <tr>\n",
       "      <th>35893547</th>\n",
       "      <td>445470</td>\n",
       "      <td>TOWNE SQUARE CARE OF PURYEAR</td>\n",
       "      <td>PURYEAR</td>\n",
       "      <td>TN</td>\n",
       "      <td>0.0</td>\n",
       "    </tr>\n",
       "    <tr>\n",
       "      <th>35893546</th>\n",
       "      <td>445470</td>\n",
       "      <td>TOWNE SQUARE CARE OF PURYEAR</td>\n",
       "      <td>PURYEAR</td>\n",
       "      <td>TN</td>\n",
       "      <td>0.0</td>\n",
       "    </tr>\n",
       "    <tr>\n",
       "      <th>35893545</th>\n",
       "      <td>445470</td>\n",
       "      <td>TOWNE SQUARE CARE OF PURYEAR</td>\n",
       "      <td>PURYEAR</td>\n",
       "      <td>TN</td>\n",
       "      <td>0.0</td>\n",
       "    </tr>\n",
       "  </tbody>\n",
       "</table>\n",
       "</div>"
      ],
      "text/plain": [
       "         PROVNUM                 Provider Name      CITY STATE  \\\n",
       "26221257  315471         ST CATHERINE OF SIENA  CALDWELL    NJ   \n",
       "35893553  445470  TOWNE SQUARE CARE OF PURYEAR   PURYEAR    TN   \n",
       "35893552  445470  TOWNE SQUARE CARE OF PURYEAR   PURYEAR    TN   \n",
       "35893551  445470  TOWNE SQUARE CARE OF PURYEAR   PURYEAR    TN   \n",
       "35893550  445470  TOWNE SQUARE CARE OF PURYEAR   PURYEAR    TN   \n",
       "35893549  445470  TOWNE SQUARE CARE OF PURYEAR   PURYEAR    TN   \n",
       "35893548  445470  TOWNE SQUARE CARE OF PURYEAR   PURYEAR    TN   \n",
       "35893547  445470  TOWNE SQUARE CARE OF PURYEAR   PURYEAR    TN   \n",
       "35893546  445470  TOWNE SQUARE CARE OF PURYEAR   PURYEAR    TN   \n",
       "35893545  445470  TOWNE SQUARE CARE OF PURYEAR   PURYEAR    TN   \n",
       "\n",
       "          Staffing_Per_Resident  \n",
       "26221257                    0.0  \n",
       "35893553                    0.0  \n",
       "35893552                    0.0  \n",
       "35893551                    0.0  \n",
       "35893550                    0.0  \n",
       "35893549                    0.0  \n",
       "35893548                    0.0  \n",
       "35893547                    0.0  \n",
       "35893546                    0.0  \n",
       "35893545                    0.0  "
      ]
     },
     "execution_count": 11,
     "metadata": {},
     "output_type": "execute_result"
    }
   ],
   "source": [
    "# Sort facilities by the severity of understaffing\n",
    "sorted_understaffed_facilities = understaffed_facilities.sort_values(by='Staffing_Per_Resident', ascending=True)\n",
    "\n",
    "# Display the top 10 facilities with the lowest staffing levels\n",
    "sorted_understaffed_facilities[['PROVNUM', 'Provider Name', 'CITY', 'STATE', 'Staffing_Per_Resident']].head(10)"
   ]
  },
  {
   "cell_type": "markdown",
   "metadata": {},
   "source": [
    "### Visualization\n",
    "- Bar plot showing the number of understaffed facilities in each state"
   ]
  },
  {
   "cell_type": "code",
   "execution_count": 12,
   "metadata": {},
   "outputs": [
    {
     "data": {
      "image/png": "[encoded data removed]",
      "text/plain": [
       "<Figure size 1200x600 with 1 Axes>"
      ]
     },
     "metadata": {},
     "output_type": "display_data"
    }
   ],
   "source": [
    "# Set up the plotting environment\n",
    "plt.figure(figsize=(12, 6))\n",
    "sns.barplot(data=understaffed_by_state, x='STATE', y='Understaffed_Facilities')\n",
    "\n",
    "# Add labels and title\n",
    "plt.title('Number of Understaffed Facilities by State', fontsize=16)\n",
    "plt.xlabel('State', fontsize=12)\n",
    "plt.ylabel('Number of Understaffed Facilities', fontsize=12)\n",
    "\n",
    "# Rotate x-axis labels for readability\n",
    "plt.xticks(rotation=90)\n",
    "\n",
    "# Show the plot\n",
    "plt.tight_layout()\n",
    "plt.show()\n"
   ]
  }
 ],
 "metadata": {
  "kernelspec": {
   "display_name": "python_course",
   "language": "python",
   "name": "python3"
  },
  "language_info": {
   "codemirror_mode": {
    "name": "ipython",
    "version": 3
   },
   "file_extension": ".py",
   "mimetype": "text/x-python",
   "name": "python",
   "nbconvert_exporter": "python",
   "pygments_lexer": "ipython3",
   "version": "3.11.9"
  }
 },
 "nbformat": 4,
 "nbformat_minor": 2
}
