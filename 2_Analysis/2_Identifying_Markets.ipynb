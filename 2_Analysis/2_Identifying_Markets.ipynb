{
 "cells": [
  {
   "cell_type": "markdown",
   "metadata": {},
   "source": [
    "# Which States have a high dependency on contracted nursing staff?"
   ]
  },
  {
   "cell_type": "markdown",
   "metadata": {},
   "source": [
    "## Objective \n",
    "\n",
    "- Identify High-Potential States.\n"
   ]
  },
  {
   "cell_type": "markdown",
   "metadata": {},
   "source": [
    "## Methodology \n",
    "\n",
    "- Calculate Contractor Dependency\n",
    "- Aggregate by Region\n",
    "- Identify High-Dependency Regions\n",
    "- Highlight Opportunities\n"
   ]
  },
  {
   "cell_type": "markdown",
   "metadata": {},
   "source": [
    "### Loading and merging the dataset"
   ]
  },
  {
   "cell_type": "code",
   "execution_count": 16,
   "metadata": {},
   "outputs": [
    {
     "name": "stderr",
     "output_type": "stream",
     "text": [
      "C:\\Users\\hp\\AppData\\Local\\Temp\\ipykernel_3084\\2151673877.py:8: DtypeWarning: Columns (0) have mixed types. Specify dtype option on import or set low_memory=False.\n",
      "  df_cleaned = pd.read_csv('C:/Users/hp/Downloads/Cleaned_PBJ_Daily_Nurse_Staffing_Q1_2024.csv')\n",
      "C:\\Users\\hp\\AppData\\Local\\Temp\\ipykernel_3084\\2151673877.py:11: DtypeWarning: Columns (0) have mixed types. Specify dtype option on import or set low_memory=False.\n",
      "  df_sn_cleaned = pd.read_csv('C:/Users/hp/Downloads/Cleaned_Skilled_Nursing_Facility_Quality_Reporting_Program_Provider_Data_Aug2024.csv')\n"
     ]
    }
   ],
   "source": [
    "# Importing Libraries\n",
    "import pandas as pd\n",
    "import matplotlib.pyplot as plt \n",
    "import seaborn as sns\n",
    "\n",
    "\n",
    "# Load the cleaned PBJ dataset\n",
    "df_cleaned = pd.read_csv('C:/Users/hp/Downloads/Cleaned_PBJ_Daily_Nurse_Staffing_Q1_2024.csv')\n",
    "\n",
    "# Load the cleaned sn dataset\n",
    "df_sn_cleaned = pd.read_csv('C:/Users/hp/Downloads/Cleaned_Skilled_Nursing_Facility_Quality_Reporting_Program_Provider_Data_Aug2024.csv')\n",
    "\n"
   ]
  },
  {
   "cell_type": "markdown",
   "metadata": {},
   "source": [
    "### Calculate the proportion of contractor hours versus employee hours for each facility."
   ]
  },
  {
   "cell_type": "code",
   "execution_count": 7,
   "metadata": {},
   "outputs": [
    {
     "data": {
      "text/plain": [
       "0          0.0\n",
       "1          0.0\n",
       "2          0.0\n",
       "3          0.0\n",
       "4          0.0\n",
       "          ... \n",
       "1330961    0.0\n",
       "1330962    0.0\n",
       "1330963    0.0\n",
       "1330964    0.0\n",
       "1330965    0.0\n",
       "Name: contractor_ratio, Length: 1330966, dtype: float64"
      ]
     },
     "execution_count": 7,
     "metadata": {},
     "output_type": "execute_result"
    }
   ],
   "source": [
    "# Sum of all contractor hours\n",
    "df_cleaned['total_contractor_hours'] = (\n",
    "    df_cleaned['Hrs_RNDON_ctr'] + df_cleaned['Hrs_RNadmin_ctr'] +\n",
    "    df_cleaned['Hrs_RN_ctr'] + df_cleaned['Hrs_LPNadmin_ctr'] +\n",
    "    df_cleaned['Hrs_LPN_ctr'] + df_cleaned['Hrs_CNA_ctr'] +\n",
    "    df_cleaned['Hrs_NAtrn_ctr'] + df_cleaned['Hrs_MedAide_ctr']\n",
    ")\n",
    "\n",
    "# Sum of all employee hours\n",
    "df_cleaned['total_employee_hours'] = (\n",
    "    df_cleaned['Hrs_RNDON_emp'] + df_cleaned['Hrs_RNadmin_emp'] +\n",
    "    df_cleaned['Hrs_RN_emp'] + df_cleaned['Hrs_LPNadmin_emp'] +\n",
    "    df_cleaned['Hrs_LPN_emp'] + df_cleaned['Hrs_CNA_emp'] +\n",
    "    df_cleaned['Hrs_NAtrn_emp'] + df_cleaned['Hrs_MedAide_emp']\n",
    ")\n",
    "\n",
    "# Calculate the contractor ratio\n",
    "df_cleaned['contractor_ratio'] = df_cleaned['total_contractor_hours'] / (\n",
    "    df_cleaned['total_contractor_hours'] + df_cleaned['total_employee_hours']\n",
    ")\n",
    "\n",
    "# Display summary statistics for the contractor ratio\n",
    "df_cleaned['contractor_ratio']\n"
   ]
  },
  {
   "cell_type": "markdown",
   "metadata": {},
   "source": [
    "### Aggregate by State"
   ]
  },
  {
   "cell_type": "code",
   "execution_count": 12,
   "metadata": {},
   "outputs": [
    {
     "name": "stdout",
     "output_type": "stream",
     "text": [
      "   State  Average_Contractor_Dependency\n",
      "0     AK                       0.127360\n",
      "1     AL                       0.014706\n",
      "2     AR                       0.023596\n",
      "3     AZ                       0.059827\n",
      "4     CA                       0.036552\n",
      "5     CO                       0.096458\n",
      "6     CT                       0.056332\n",
      "7     DC                       0.060655\n",
      "8     DE                       0.115206\n",
      "9     FL                       0.027363\n",
      "10    GA                       0.066617\n",
      "11    HI                       0.083438\n",
      "12    IA                       0.068156\n",
      "13    ID                       0.039796\n",
      "14    IL                       0.074209\n",
      "15    IN                       0.033340\n",
      "16    KS                       0.065274\n",
      "17    KY                       0.054596\n",
      "18    LA                       0.048417\n",
      "19    MA                       0.103313\n",
      "20    MD                       0.108991\n",
      "21    ME                       0.174177\n",
      "22    MI                       0.032851\n",
      "23    MN                       0.096009\n",
      "24    MO                       0.060807\n",
      "25    MS                       0.068086\n",
      "26    MT                       0.131705\n",
      "27    NC                       0.102451\n",
      "28    ND                       0.169072\n",
      "29    NE                       0.122326\n",
      "30    NH                       0.139784\n",
      "31    NJ                       0.140344\n",
      "32    NM                       0.074640\n",
      "33    NV                       0.056946\n",
      "34    NY                       0.112085\n",
      "35    OH                       0.058044\n",
      "36    OK                       0.030893\n",
      "37    OR                       0.128700\n",
      "38    PA                       0.142912\n",
      "39    PR                       0.014370\n",
      "40    RI                       0.065128\n",
      "41    SC                       0.066406\n",
      "42    SD                       0.106716\n",
      "43    TN                       0.059690\n",
      "44    TX                       0.042154\n",
      "45    UT                       0.056309\n",
      "46    VA                       0.060752\n",
      "47    VT                       0.282388\n",
      "48    WA                       0.073043\n",
      "49    WI                       0.106001\n",
      "50    WV                       0.051099\n",
      "51    WY                       0.060461\n"
     ]
    }
   ],
   "source": [
    "# Group by state and calculate the average contractor ratio\n",
    "state_contractor_dependency = df_cleaned.groupby('STATE')['contractor_ratio'].mean().reset_index()\n",
    "\n",
    "# Rename columns for clarity\n",
    "state_contractor_dependency.columns = ['State', 'Average_Contractor_Dependency']\n",
    "\n",
    "# Display the results\n",
    "print(state_contractor_dependency)\n"
   ]
  },
  {
   "cell_type": "markdown",
   "metadata": {},
   "source": [
    "### Identify High-Dependency Regions"
   ]
  },
  {
   "cell_type": "markdown",
   "metadata": {},
   "source": [
    "- Calculate the National Average Contractor Dependency"
   ]
  },
  {
   "cell_type": "code",
   "execution_count": 13,
   "metadata": {},
   "outputs": [],
   "source": [
    "# Calculate the national average contractor dependency\n",
    "national_average = state_contractor_dependency['Average_Contractor_Dependency'].mean()\n"
   ]
  },
  {
   "cell_type": "markdown",
   "metadata": {},
   "source": [
    "- Define threshold and Identify high-dependency regions"
   ]
  },
  {
   "cell_type": "code",
   "execution_count": 14,
   "metadata": {},
   "outputs": [],
   "source": [
    "# Define a threshold (e.g., 20% above the national average)\n",
    "threshold = national_average * 1.20\n",
    "\n",
    "# Identify high-dependency regions\n",
    "high_dependency_regions = state_contractor_dependency[state_contractor_dependency['Average_Contractor_Dependency'] > threshold]"
   ]
  },
  {
   "cell_type": "code",
   "execution_count": 15,
   "metadata": {},
   "outputs": [
    {
     "data": {
      "image/png": "[encoded data removed]",
      "text/plain": [
       "<Figure size 1200x800 with 1 Axes>"
      ]
     },
     "metadata": {},
     "output_type": "display_data"
    }
   ],
   "source": [
    "# Sort the high_dependency_regions DataFrame by 'Average_Contractor_Dependency' in descending order\n",
    "high_dependency_regions_sorted = high_dependency_regions.sort_values(by='Average_Contractor_Dependency', ascending=False)\n",
    "\n",
    "# Create a bar plot of high-dependency regions\n",
    "plt.figure(figsize=(12, 8))\n",
    "sns.barplot(x='Average_Contractor_Dependency', y='State', data=high_dependency_regions_sorted, errorbar=None)\n",
    "\n",
    "# Add a vertical line for the national average\n",
    "plt.axvline(x=national_average, color='red', linestyle='--', label='National Average')\n",
    "\n",
    "plt.title('High-Dependency Regions (Contractor Dependency)')\n",
    "plt.xlabel('Average Contractor Dependency')\n",
    "plt.ylabel('State')\n",
    "plt.legend()\n",
    "plt.show()\n",
    "\n"
   ]
  }
 ],
 "metadata": {
  "kernelspec": {
   "display_name": "python_course",
   "language": "python",
   "name": "python3"
  },
  "language_info": {
   "codemirror_mode": {
    "name": "ipython",
    "version": 3
   },
   "file_extension": ".py",
   "mimetype": "text/x-python",
   "name": "python",
   "nbconvert_exporter": "python",
   "pygments_lexer": "ipython3",
   "version": "3.11.9"
  }
 },
 "nbformat": 4,
 "nbformat_minor": 2
}
