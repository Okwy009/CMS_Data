{
 "cells": [
  {
   "cell_type": "markdown",
   "metadata": {},
   "source": [
    "# Analyzing Seasonal Staffing Trends"
   ]
  },
  {
   "cell_type": "markdown",
   "metadata": {},
   "source": [
    "### Question to Answer\n",
    "- Does a higher dependence on contractors lead to better or worse quality scores? "
   ]
  },
  {
   "cell_type": "markdown",
   "metadata": {},
   "source": [
    "### Objective\n",
    "- To help Clipboard Health determine where their staffing solutions can significantly improve care quality."
   ]
  },
  {
   "cell_type": "markdown",
   "metadata": {},
   "source": [
    "### Methodology\n",
    "\n",
    "- Create Contractor Usage Metric\n",
    "- Examine CMS Quality Scores\n",
    "- Correlate Contractor Usage with Quality Scores"
   ]
  },
  {
   "cell_type": "markdown",
   "metadata": {},
   "source": [
    "#### Importing Libraries and Loading Dataset"
   ]
  },
  {
   "cell_type": "code",
   "execution_count": 12,
   "metadata": {},
   "outputs": [
    {
     "name": "stderr",
     "output_type": "stream",
     "text": [
      "C:\\Users\\hp\\AppData\\Local\\Temp\\ipykernel_10768\\3406516609.py:9: DtypeWarning: Columns (0) have mixed types. Specify dtype option on import or set low_memory=False.\n",
      "  df_cleaned = pd.read_csv('C:/Users/hp/Downloads/Cleaned_PBJ_Daily_Nurse_Staffing_Q1_2024.csv')\n",
      "C:\\Users\\hp\\AppData\\Local\\Temp\\ipykernel_10768\\3406516609.py:12: DtypeWarning: Columns (0) have mixed types. Specify dtype option on import or set low_memory=False.\n",
      "  df_sn_cleaned = pd.read_csv(\n"
     ]
    }
   ],
   "source": [
    "# Importing Libraries\n",
    "import pandas as pd\n",
    "import matplotlib.pyplot as plt \n",
    "import seaborn as sns\n",
    "import numpy as np\n",
    "\n",
    "\n",
    "# Load the cleaned PBJ dataset\n",
    "df_cleaned = pd.read_csv('C:/Users/hp/Downloads/Cleaned_PBJ_Daily_Nurse_Staffing_Q1_2024.csv')\n",
    "\n",
    "# Load the cleaned sn dataset\n",
    "df_sn_cleaned = pd.read_csv(\n",
    "    'C:/Users/hp/Downloads/Cleaned_Skilled_Nursing_Facility_Quality_Reporting_Program_Provider_Data_Aug2024.csv'\n",
    ")"
   ]
  },
  {
   "cell_type": "markdown",
   "metadata": {},
   "source": [
    "#### Create Contractor Usage Metric"
   ]
  },
  {
   "cell_type": "code",
   "execution_count": 9,
   "metadata": {},
   "outputs": [
    {
     "data": {
      "text/plain": [
       "124692.23999999996"
      ]
     },
     "execution_count": 9,
     "metadata": {},
     "output_type": "execute_result"
    }
   ],
   "source": [
    "df_cleaned['Hrs_RNDON_ctr'].sum()"
   ]
  },
  {
   "cell_type": "code",
   "execution_count": 2,
   "metadata": {},
   "outputs": [],
   "source": [
    "# Sum of all contractor hours\n",
    "df_cleaned['Total_Contractor_Hours'] = (\n",
    "    df_cleaned['Hrs_RNDON_ctr'] + df_cleaned['Hrs_RNadmin_ctr'] +\n",
    "    df_cleaned['Hrs_RN_ctr'] + df_cleaned['Hrs_LPNadmin_ctr'] +\n",
    "    df_cleaned['Hrs_LPN_ctr'] + df_cleaned['Hrs_CNA_ctr'] +\n",
    "    df_cleaned['Hrs_NAtrn_ctr'] + df_cleaned['Hrs_MedAide_ctr']\n",
    ")\n",
    "\n",
    "# Sum of all employee hours\n",
    "df_cleaned['Total_Staffing_Hours'] = (\n",
    "    df_cleaned['Hrs_RNDON_emp'] + df_cleaned['Hrs_RNadmin_emp'] +\n",
    "    df_cleaned['Hrs_RN_emp'] + df_cleaned['Hrs_LPNadmin_emp'] +\n",
    "    df_cleaned['Hrs_LPN_emp'] + df_cleaned['Hrs_CNA_emp'] +\n",
    "    df_cleaned['Hrs_NAtrn_emp'] + df_cleaned['Hrs_MedAide_emp']\n",
    ")\n",
    "\n",
    "# Select relevant columns from df_cleaned\n",
    "df_relevant = df_cleaned[['PROVNUM', 'Total_Contractor_Hours', 'Total_Staffing_Hours']]\n",
    "\n",
    "# Select relevant columns from df_sn_cleaned\n",
    "df_sn_relevant = df_sn_cleaned[['PROVNUM', 'Score']]\n",
    "\n",
    "# Merge the datasets on 'PROVNUM'\n",
    "merged_df = pd.merge(df_relevant, df_sn_relevant, on='PROVNUM', how='inner')\n"
   ]
  },
  {
   "cell_type": "markdown",
   "metadata": {},
   "source": [
    "#### Examine CMS Quality Scores"
   ]
  },
  {
   "cell_type": "code",
   "execution_count": 3,
   "metadata": {},
   "outputs": [],
   "source": [
    "\n",
    "# Calculate Contractor Usage Percentage\n",
    "merged_df['Contractor_Usage_Percentage'] = (merged_df['Total_Contractor_Hours'] / merged_df['Total_Staffing_Hours']) * 100\n",
    "\n",
    "# Correlation between Contractor Usage and CMS Quality Score\n",
    "correlation = merged_df[['Contractor_Usage_Percentage', 'Score']].corr()"
   ]
  },
  {
   "cell_type": "markdown",
   "metadata": {},
   "source": [
    "#### Correlate Contractor Usage with Quality Scores"
   ]
  },
  {
   "cell_type": "code",
   "execution_count": 4,
   "metadata": {},
   "outputs": [],
   "source": [
    "# Categorize quality scores into Low, Medium, High and analyze average contractor usage\n",
    "def categorize_quality(score):\n",
    "    if score < 30:\n",
    "        return 'Low'\n",
    "    elif 30 <= score <= 70:\n",
    "        return 'Medium'\n",
    "    else:\n",
    "        return 'High'\n",
    "\n",
    "merged_df['Quality_Category'] = merged_df['Score'].apply(categorize_quality)\n",
    "\n",
    "# Calculate average contractor usage per quality category\n",
    "avg_contractor_usage = merged_df.groupby('Quality_Category')['Contractor_Usage_Percentage'].mean()"
   ]
  },
  {
   "cell_type": "code",
   "execution_count": 13,
   "metadata": {},
   "outputs": [
    {
     "name": "stdout",
     "output_type": "stream",
     "text": [
      "Rows with infinite values in Contractor_Usage_Percentage:\n",
      "          PROVNUM  Total_Contractor_Hours  Total_Staffing_Hours      Score  \\\n",
      "4161178   075034                   14.50                   0.0  254.00000   \n",
      "4161179   075034                   14.50                   0.0  254.00000   \n",
      "4161180   075034                   14.50                   0.0  100.00000   \n",
      "4161181   075034                   14.50                   0.0   56.74704   \n",
      "4161182   075034                   14.50                   0.0    7.16000   \n",
      "...          ...                     ...                   ...        ...   \n",
      "43121895  676100                  240.42                   0.0  169.00000   \n",
      "43121896  676100                  240.42                   0.0   81.60000   \n",
      "43121897  676100                  240.42                   0.0   56.74704   \n",
      "43121898  676100                  240.42                   0.0   56.74704   \n",
      "43121899  676100                  240.42                   0.0   56.74704   \n",
      "\n",
      "          Contractor_Usage_Percentage Quality_Category  \n",
      "4161178                           inf             High  \n",
      "4161179                           inf             High  \n",
      "4161180                           inf             High  \n",
      "4161181                           inf           Medium  \n",
      "4161182                           inf              Low  \n",
      "...                               ...              ...  \n",
      "43121895                          inf             High  \n",
      "43121896                          inf             High  \n",
      "43121897                          inf           Medium  \n",
      "43121898                          inf           Medium  \n",
      "43121899                          inf           Medium  \n",
      "\n",
      "[47142 rows x 6 columns]\n"
     ]
    },
    {
     "name": "stderr",
     "output_type": "stream",
     "text": [
      "C:\\Users\\hp\\AppData\\Local\\Temp\\ipykernel_10768\\3773706210.py:6: FutureWarning: A value is trying to be set on a copy of a DataFrame or Series through chained assignment using an inplace method.\n",
      "The behavior will change in pandas 3.0. This inplace method will never work because the intermediate object on which we are setting values always behaves as a copy.\n",
      "\n",
      "For example, when doing 'df[col].method(value, inplace=True)', try using 'df.method({col: value}, inplace=True)' or df[col] = df[col].method(value) instead, to perform the operation inplace on the original object.\n",
      "\n",
      "\n",
      "  merged_df['Contractor_Usage_Percentage'].replace([np.inf, -np.inf], np.nan, inplace=True)\n"
     ]
    },
    {
     "name": "stdout",
     "output_type": "stream",
     "text": [
      "Unrealistic percentage values:\n",
      "          PROVNUM  Total_Contractor_Hours  Total_Staffing_Hours      Score  \\\n",
      "230742    025024                  158.82                116.07   56.74704   \n",
      "230743    025024                  158.82                116.07   56.74704   \n",
      "230744    025024                  158.82                116.07   56.74704   \n",
      "230745    025024                  158.82                116.07   56.74704   \n",
      "230746    025024                  158.82                116.07   56.74704   \n",
      "...          ...                     ...                   ...        ...   \n",
      "44847411  745004                  145.12                124.97   72.00000   \n",
      "44847412  745004                  145.12                124.97   82.80000   \n",
      "44847413  745004                  145.12                124.97  139.00000   \n",
      "44847414  745004                  145.12                124.97   77.00000   \n",
      "44847415  745004                  145.12                124.97   55.40000   \n",
      "\n",
      "          Contractor_Usage_Percentage Quality_Category  \n",
      "230742                     136.831223           Medium  \n",
      "230743                     136.831223           Medium  \n",
      "230744                     136.831223           Medium  \n",
      "230745                     136.831223           Medium  \n",
      "230746                     136.831223           Medium  \n",
      "...                               ...              ...  \n",
      "44847411                   116.123870             High  \n",
      "44847412                   116.123870             High  \n",
      "44847413                   116.123870             High  \n",
      "44847414                   116.123870             High  \n",
      "44847415                   116.123870           Medium  \n",
      "\n",
      "[591518 rows x 6 columns]\n"
     ]
    }
   ],
   "source": [
    "# Check for rows with infinite values\n",
    "inf_values = merged_df[np.isinf(merged_df['Contractor_Usage_Percentage'])]\n",
    "print(\"Rows with infinite values in Contractor_Usage_Percentage:\\n\", inf_values)\n",
    "\n",
    "# Replace infinite values with NaN\n",
    "merged_df['Contractor_Usage_Percentage'].replace([np.inf, -np.inf], np.nan, inplace=True)\n",
    "\n",
    "# Drop rows where Contractor_Usage_Percentage is NaN \n",
    "merged_df.dropna(subset=['Contractor_Usage_Percentage'], inplace=True)\n",
    "\n",
    "# Check if there are any unrealistic high values (e.g., greater than 100 for percentages)\n",
    "unrealistic_values = merged_df[merged_df['Contractor_Usage_Percentage'] > 100]\n",
    "\n",
    "# Cap the outliers to 100 (since percentages can't exceed 100)\n",
    "merged_df['Contractor_Usage_Percentage'] = merged_df['Contractor_Usage_Percentage'].clip(upper=100)"
   ]
  },
  {
   "cell_type": "code",
   "execution_count": 16,
   "metadata": {},
   "outputs": [
    {
     "name": "stdout",
     "output_type": "stream",
     "text": [
      "count    4.479304e+07\n",
      "mean     9.411678e+00\n",
      "std      1.892306e+01\n",
      "min      0.000000e+00\n",
      "25%      0.000000e+00\n",
      "50%      0.000000e+00\n",
      "75%      1.023018e+01\n",
      "max      1.000000e+02\n",
      "Name: Contractor_Usage_Percentage, dtype: float64\n"
     ]
    }
   ],
   "source": [
    "# Replace infinite contractor usage percentages with 100 (since all staffing was done by contractors)\n",
    "merged_df.loc[merged_df['Contractor_Usage_Percentage'] == np.inf, 'Contractor_Usage_Percentage'] = 100\n",
    "\n",
    "# Cap contractor usage percentage at 100 for unrealistic values\n",
    "merged_df['Contractor_Usage_Percentage'] = merged_df['Contractor_Usage_Percentage'].clip(upper=100)\n",
    "\n",
    "# Verify the results\n",
    "print(merged_df['Contractor_Usage_Percentage'].describe())\n",
    "\n"
   ]
  },
  {
   "cell_type": "code",
   "execution_count": 17,
   "metadata": {},
   "outputs": [
    {
     "data": {
      "image/png": "[encoded data removed]",
      "text/plain": [
       "<Figure size 1000x600 with 1 Axes>"
      ]
     },
     "metadata": {},
     "output_type": "display_data"
    }
   ],
   "source": [
    "# Histogram - Distribution of Contractor Usage Percentage\n",
    "plt.figure(figsize=(10, 6))\n",
    "sns.histplot(merged_df['Contractor_Usage_Percentage'], bins=30, kde=True, color='purple')\n",
    "plt.title('Distribution of Contractor Usage Percentage')\n",
    "plt.xlabel('Contractor Usage Percentage')\n",
    "plt.ylabel('Frequency')\n",
    "plt.tight_layout()\n",
    "plt.show()\n"
   ]
  }
 ],
 "metadata": {
  "kernelspec": {
   "display_name": "python_course",
   "language": "python",
   "name": "python3"
  },
  "language_info": {
   "codemirror_mode": {
    "name": "ipython",
    "version": 3
   },
   "file_extension": ".py",
   "mimetype": "text/x-python",
   "name": "python",
   "nbconvert_exporter": "python",
   "pygments_lexer": "ipython3",
   "version": "3.11.9"
  }
 },
 "nbformat": 4,
 "nbformat_minor": 2
}
